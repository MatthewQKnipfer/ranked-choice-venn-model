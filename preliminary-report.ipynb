{
 "cells": [
  {
   "cell_type": "markdown",
   "metadata": {},
   "source": [
    "# **Ranked-Choice Vote Modelling**\n",
    "## *Matthew Q. Knipfer*"
   ]
  },
  {
   "cell_type": "markdown",
   "metadata": {},
   "source": [
    "##### *MTH-4910 preliminary report*"
   ]
  },
  {
   "cell_type": "markdown",
   "metadata": {},
   "source": [
    "---------"
   ]
  },
  {
   "cell_type": "code",
   "execution_count": 1,
   "metadata": {},
   "outputs": [],
   "source": [
    "import numpy as np\n",
    "from astropy.table import Table"
   ]
  },
  {
   "cell_type": "markdown",
   "metadata": {},
   "source": [
    "-----"
   ]
  },
  {
   "cell_type": "markdown",
   "metadata": {},
   "source": [
    "## Background"
   ]
  },
  {
   "cell_type": "markdown",
   "metadata": {},
   "source": [
    "### Ranked-choice method"
   ]
  },
  {
   "cell_type": "markdown",
   "metadata": {},
   "source": [
    "Ranked-choice voting is an alternative model to single non-transferrable vote - the predominant method in the United States, we know as casting one vote for one candidate - in which constituents rank the field from most to least favorable. All of the votes are collected and sorted, and whichever candidate is in last place from everyone's first choice, they are eliminated; however, the ballots cast for them are then redistributed back into the rest of the field based on the second-place choices. This is repeated until one candidate has greater than fifty percent of the votes.\n",
    "\n",
    "The advantage to this method over single non-transferrable vote is that it is more apt to foster the development of greater than two parties. Single non-transferrable vote trends towards a two-party system, in which issues become polar. By allowing voters to not fear their vote will be 'thrown away' if they vote for someone unlikely, they are more willing to cast a vote for someone who exactly appeals to their values, rather than deferring to the competitive candidate they dislike the least.\n",
    "\n",
    "In the 2018 midterms, Maine used the first instance of ranked-choice voting for a U.S. federal election. The Republican candidate had the most first-place votes, but after redistributing the third party candidates' shares, the Democratic candidate won. This demonstrates an effective use of this voting method not by a third party victory, but a preservation of the will of voters who then had the opportunity to cast a ballot for their true preference, while not fearing their vote is wasted."
   ]
  },
  {
   "cell_type": "markdown",
   "metadata": {},
   "source": [
    "### Ranked-choice anomalies"
   ]
  },
  {
   "cell_type": "markdown",
   "metadata": {},
   "source": [
    "#### No-show"
   ]
  },
  {
   "cell_type": "code",
   "execution_count": 2,
   "metadata": {},
   "outputs": [
    {
     "name": "stdout",
     "output_type": "stream",
     "text": [
      " 30  21  49\n",
      "--- --- ---\n",
      "  A   B   C\n",
      "      A   B\n",
      "          A\n"
     ]
    }
   ],
   "source": [
    "no_show_anomaly_table = [\n",
    "             ('A', 'B', 'C'),\n",
    "             (_, 'A', 'B'),\n",
    "             (_, _, 'A')]\n",
    "tnsat = Table(rows=no_show_anomaly_table, names=(30, 21, 49))\n",
    "print(tnsat)"
   ]
  },
  {
   "cell_type": "code",
   "execution_count": 3,
   "metadata": {},
   "outputs": [
    {
     "name": "stdout",
     "output_type": "stream",
     "text": [
      " 30  21  20\n",
      "--- --- ---\n",
      "  A   B   C\n",
      "      A   B\n",
      "          A\n"
     ]
    }
   ],
   "source": [
    "no_show_anomaly_table_stay_home = [\n",
    "             ('A', 'B', 'C'),\n",
    "             (_, 'A', 'B'),\n",
    "             (_, _, 'A')]\n",
    "tnsat2 = Table(rows=no_show_anomaly_table_stay_home, names=(30, 21, 20))\n",
    "print(tnsat2)"
   ]
  },
  {
   "cell_type": "markdown",
   "metadata": {},
   "source": [
    "#### Monotonicity"
   ]
  },
  {
   "cell_type": "code",
   "execution_count": 4,
   "metadata": {},
   "outputs": [
    {
     "name": "stdout",
     "output_type": "stream",
     "text": [
      " 42  30  28\n",
      "--- --- ---\n",
      "  A   B   C\n",
      "  B   C   A\n",
      "  C   A   B\n"
     ]
    }
   ],
   "source": [
    "monotonicity_anomaly_table = [\n",
    "             ('A', 'B', 'C'),\n",
    "             ('B', 'C', 'A'),\n",
    "             ('C', 'A', 'B')]\n",
    "tmat = Table(rows=monotonicity_anomaly_table, names=(42, 30, 28))\n",
    "print(tmat)"
   ]
  },
  {
   "cell_type": "code",
   "execution_count": 5,
   "metadata": {},
   "outputs": [
    {
     "name": "stdout",
     "output_type": "stream",
     "text": [
      " 45  27  28\n",
      "--- --- ---\n",
      "  A   B   C\n",
      "  B   C   A\n",
      "  C   A   B\n"
     ]
    }
   ],
   "source": [
    "monotonicity_anomaly_table = [\n",
    "             ('A', 'B', 'C'),\n",
    "             ('B', 'C', 'A'),\n",
    "             ('C', 'A', 'B')]\n",
    "tmat2 = Table(rows=monotonicity_anomaly_table, names=(45, 27, 28))\n",
    "print(tmat2)"
   ]
  },
  {
   "cell_type": "markdown",
   "metadata": {},
   "source": [
    "------"
   ]
  },
  {
   "cell_type": "markdown",
   "metadata": {},
   "source": [
    "## Purpose"
   ]
  },
  {
   "cell_type": "markdown",
   "metadata": {},
   "source": [
    "### Current state of modelling"
   ]
  },
  {
   "cell_type": "markdown",
   "metadata": {},
   "source": [
    "### Opportunity for improvement"
   ]
  },
  {
   "cell_type": "markdown",
   "metadata": {},
   "source": [
    "-----"
   ]
  },
  {
   "cell_type": "markdown",
   "metadata": {},
   "source": [
    "## Methodology"
   ]
  },
  {
   "cell_type": "markdown",
   "metadata": {},
   "source": [
    "### Axiom system"
   ]
  },
  {
   "cell_type": "markdown",
   "metadata": {},
   "source": [
    "1. Candidates and voters exist as points in a space of n-1 dimensions, n representing the number of candidates being modelled.\n",
    "2. The distance between a voter and a candidate represents a combination of preference and motivation to place a candidate on their ballot.\n",
    "3. Around every candidate exists an n-dimensional xxxxxxxxx, within which constituents will add that candidate to their ballot.\n",
    "4. Voters will rank candidates on their ballot by distance, the closer of which receiving a higher ranking.\n",
    "5. The area of a candidate's xxxxxxxx represents the number of ballots in which they are included.\n",
    "6. Ballots in which more than one candidate is listed are represented as overlapping regions of the xxxxxxxx of the component candidates."
   ]
  },
  {
   "cell_type": "markdown",
   "metadata": {},
   "source": [
    "**Note: voters act as particle-wave functions**"
   ]
  },
  {
   "cell_type": "markdown",
   "metadata": {},
   "source": [
    "------"
   ]
  },
  {
   "cell_type": "markdown",
   "metadata": {},
   "source": [
    "## Data"
   ]
  },
  {
   "cell_type": "code",
   "execution_count": null,
   "metadata": {},
   "outputs": [],
   "source": []
  },
  {
   "cell_type": "code",
   "execution_count": null,
   "metadata": {},
   "outputs": [],
   "source": []
  },
  {
   "cell_type": "code",
   "execution_count": null,
   "metadata": {},
   "outputs": [],
   "source": []
  },
  {
   "cell_type": "code",
   "execution_count": null,
   "metadata": {},
   "outputs": [],
   "source": []
  },
  {
   "cell_type": "code",
   "execution_count": null,
   "metadata": {},
   "outputs": [],
   "source": []
  },
  {
   "cell_type": "markdown",
   "metadata": {},
   "source": [
    "-----"
   ]
  },
  {
   "cell_type": "code",
   "execution_count": null,
   "metadata": {},
   "outputs": [],
   "source": []
  }
 ],
 "metadata": {
  "kernelspec": {
   "display_name": "Python 3",
   "language": "python",
   "name": "python3"
  },
  "language_info": {
   "codemirror_mode": {
    "name": "ipython",
    "version": 3
   },
   "file_extension": ".py",
   "mimetype": "text/x-python",
   "name": "python",
   "nbconvert_exporter": "python",
   "pygments_lexer": "ipython3",
   "version": "3.7.0"
  }
 },
 "nbformat": 4,
 "nbformat_minor": 2
}
